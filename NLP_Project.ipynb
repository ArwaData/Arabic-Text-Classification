{
  "nbformat": 4,
  "nbformat_minor": 0,
  "metadata": {
    "colab": {
      "name": "NLP_Project.ipynb",
      "provenance": [],
      "collapsed_sections": [
        "RHRJRot0PrXE",
        "qkBuhR1NbSkK"
      ],
      "include_colab_link": true
    },
    "kernelspec": {
      "name": "python3",
      "display_name": "Python 3"
    }
  },
  "cells": [
    {
      "cell_type": "markdown",
      "metadata": {
        "id": "view-in-github",
        "colab_type": "text"
      },
      "source": [
        "<a href=\"https://colab.research.google.com/github/ArwaData/ArwaData.github.io/blob/main/NLP_Project.ipynb\" target=\"_parent\"><img src=\"https://colab.research.google.com/assets/colab-badge.svg\" alt=\"Open In Colab\"/></a>"
      ]
    },
    {
      "cell_type": "markdown",
      "metadata": {
        "id": "WIw6moF77G6U"
      },
      "source": [
        "# **Arabic Text Classification**"
      ]
    },
    {
      "cell_type": "markdown",
      "metadata": {
        "id": "wBRWkSShcT7R"
      },
      "source": [
        "# **Libraries importing**"
      ]
    },
    {
      "cell_type": "code",
      "metadata": {
        "colab": {
          "base_uri": "https://localhost:8080/"
        },
        "id": "kqE6njEKNnde",
        "outputId": "d67d2542-3de1-47bb-85b3-e4dd5d7b28ae"
      },
      "source": [
        "# CAMeL\n",
        "#If it was not the first time...\n",
        "%pip install camel-tools\n",
        "\n",
        "import os\n",
        "\n",
        "drive.mount('/gdrive')\n",
        "os.environ['CAMELTOOLS_DATA'] = '/gdrive/MyDrive/camel_tools'\n",
        "\n"
      ],
      "execution_count": null,
      "outputs": [
        {
          "output_type": "stream",
          "text": [
            "Collecting camel-tools\n",
            "\u001b[?25l  Downloading https://files.pythonhosted.org/packages/06/23/331ce904926a8d53a527aac34bfe03fffb9fd1d4597924cbcd65432a53ef/camel_tools-1.1.0.tar.gz (56kB)\n",
            "\u001b[K     |████████████████████████████████| 61kB 2.7MB/s \n",
            "\u001b[?25hRequirement already satisfied: future in /usr/local/lib/python3.7/dist-packages (from camel-tools) (0.16.0)\n",
            "Requirement already satisfied: six in /usr/local/lib/python3.7/dist-packages (from camel-tools) (1.15.0)\n",
            "Requirement already satisfied: docopt in /usr/local/lib/python3.7/dist-packages (from camel-tools) (0.6.2)\n",
            "Requirement already satisfied: cachetools in /usr/local/lib/python3.7/dist-packages (from camel-tools) (4.2.1)\n",
            "Requirement already satisfied: numpy in /usr/local/lib/python3.7/dist-packages (from camel-tools) (1.19.5)\n",
            "Requirement already satisfied: scipy in /usr/local/lib/python3.7/dist-packages (from camel-tools) (1.4.1)\n",
            "Requirement already satisfied: pandas in /usr/local/lib/python3.7/dist-packages (from camel-tools) (1.1.5)\n",
            "Requirement already satisfied: scikit-learn in /usr/local/lib/python3.7/dist-packages (from camel-tools) (0.22.2.post1)\n",
            "Requirement already satisfied: dill in /usr/local/lib/python3.7/dist-packages (from camel-tools) (0.3.3)\n",
            "Requirement already satisfied: torch>=1.3 in /usr/local/lib/python3.7/dist-packages (from camel-tools) (1.8.1+cu101)\n",
            "Collecting transformers==3.0.2\n",
            "\u001b[?25l  Downloading https://files.pythonhosted.org/packages/27/3c/91ed8f5c4e7ef3227b4119200fc0ed4b4fd965b1f0172021c25701087825/transformers-3.0.2-py3-none-any.whl (769kB)\n",
            "\u001b[K     |████████████████████████████████| 778kB 6.0MB/s \n",
            "\u001b[?25hRequirement already satisfied: editdistance in /usr/local/lib/python3.7/dist-packages (from camel-tools) (0.5.3)\n",
            "Requirement already satisfied: requests in /usr/local/lib/python3.7/dist-packages (from camel-tools) (2.23.0)\n",
            "Collecting camel-kenlm\n",
            "\u001b[?25l  Downloading https://files.pythonhosted.org/packages/e0/4e/147d258c7168b8f538e6aa7c4dc602b2bb696452502af8af35876a28de78/camel-kenlm-2020.11.2.tar.gz (250kB)\n",
            "\u001b[K     |████████████████████████████████| 256kB 13.3MB/s \n",
            "\u001b[?25hRequirement already satisfied: pytz>=2017.2 in /usr/local/lib/python3.7/dist-packages (from pandas->camel-tools) (2018.9)\n",
            "Requirement already satisfied: python-dateutil>=2.7.3 in /usr/local/lib/python3.7/dist-packages (from pandas->camel-tools) (2.8.1)\n",
            "Requirement already satisfied: joblib>=0.11 in /usr/local/lib/python3.7/dist-packages (from scikit-learn->camel-tools) (1.0.1)\n",
            "Requirement already satisfied: typing-extensions in /usr/local/lib/python3.7/dist-packages (from torch>=1.3->camel-tools) (3.7.4.3)\n",
            "Requirement already satisfied: packaging in /usr/local/lib/python3.7/dist-packages (from transformers==3.0.2->camel-tools) (20.9)\n",
            "Requirement already satisfied: tqdm>=4.27 in /usr/local/lib/python3.7/dist-packages (from transformers==3.0.2->camel-tools) (4.41.1)\n",
            "Collecting sentencepiece!=0.1.92\n",
            "\u001b[?25l  Downloading https://files.pythonhosted.org/packages/f5/99/e0808cb947ba10f575839c43e8fafc9cc44e4a7a2c8f79c60db48220a577/sentencepiece-0.1.95-cp37-cp37m-manylinux2014_x86_64.whl (1.2MB)\n",
            "\u001b[K     |████████████████████████████████| 1.2MB 14.9MB/s \n",
            "\u001b[?25hCollecting tokenizers==0.8.1.rc1\n",
            "\u001b[?25l  Downloading https://files.pythonhosted.org/packages/02/59/68c7e3833f535615fb97d33ffcb7b30bbf62bc7477a9c59cd19ad8535d72/tokenizers-0.8.1rc1-cp37-cp37m-manylinux1_x86_64.whl (3.0MB)\n",
            "\u001b[K     |████████████████████████████████| 3.0MB 23.1MB/s \n",
            "\u001b[?25hCollecting sacremoses\n",
            "\u001b[?25l  Downloading https://files.pythonhosted.org/packages/08/cd/342e584ee544d044fb573ae697404ce22ede086c9e87ce5960772084cad0/sacremoses-0.0.44.tar.gz (862kB)\n",
            "\u001b[K     |████████████████████████████████| 870kB 44.6MB/s \n",
            "\u001b[?25hRequirement already satisfied: filelock in /usr/local/lib/python3.7/dist-packages (from transformers==3.0.2->camel-tools) (3.0.12)\n",
            "Requirement already satisfied: regex!=2019.12.17 in /usr/local/lib/python3.7/dist-packages (from transformers==3.0.2->camel-tools) (2019.12.20)\n",
            "Requirement already satisfied: certifi>=2017.4.17 in /usr/local/lib/python3.7/dist-packages (from requests->camel-tools) (2020.12.5)\n",
            "Requirement already satisfied: idna<3,>=2.5 in /usr/local/lib/python3.7/dist-packages (from requests->camel-tools) (2.10)\n",
            "Requirement already satisfied: urllib3!=1.25.0,!=1.25.1,<1.26,>=1.21.1 in /usr/local/lib/python3.7/dist-packages (from requests->camel-tools) (1.24.3)\n",
            "Requirement already satisfied: chardet<4,>=3.0.2 in /usr/local/lib/python3.7/dist-packages (from requests->camel-tools) (3.0.4)\n",
            "Requirement already satisfied: pyparsing>=2.0.2 in /usr/local/lib/python3.7/dist-packages (from packaging->transformers==3.0.2->camel-tools) (2.4.7)\n",
            "Requirement already satisfied: click in /usr/local/lib/python3.7/dist-packages (from sacremoses->transformers==3.0.2->camel-tools) (7.1.2)\n",
            "Building wheels for collected packages: camel-tools, camel-kenlm, sacremoses\n",
            "  Building wheel for camel-tools (setup.py) ... \u001b[?25l\u001b[?25hdone\n",
            "  Created wheel for camel-tools: filename=camel_tools-1.1.0-cp37-none-any.whl size=96899 sha256=b8703e6163ac18412be3f47e4488a9f40141b3513e4e04da449c00874e055cfb\n",
            "  Stored in directory: /root/.cache/pip/wheels/ff/8d/46/949198daef42f9e3bf64ed645a4af05816f47aa7677ac74589\n",
            "  Building wheel for camel-kenlm (setup.py) ... \u001b[?25l\u001b[?25hdone\n",
            "  Created wheel for camel-kenlm: filename=camel_kenlm-2020.11.2-cp37-cp37m-linux_x86_64.whl size=2311329 sha256=0ab07619fe5a312877b0ae79edbd18cb008926b3e90355c925503ead1df98fa5\n",
            "  Stored in directory: /root/.cache/pip/wheels/a4/df/36/46723b5cb1a11c345ad10813f13d2ce2452e95b0aaca7ad332\n",
            "  Building wheel for sacremoses (setup.py) ... \u001b[?25l\u001b[?25hdone\n",
            "  Created wheel for sacremoses: filename=sacremoses-0.0.44-cp37-none-any.whl size=886084 sha256=cf082a2d0523521daf3b55cfb404191a65804aba8d074d20435dc37fdcf6ab4b\n",
            "  Stored in directory: /root/.cache/pip/wheels/3e/fb/c0/13ab4d63d537658f448366744654323077c4d90069b6512f3c\n",
            "Successfully built camel-tools camel-kenlm sacremoses\n",
            "Installing collected packages: sentencepiece, tokenizers, sacremoses, transformers, camel-kenlm, camel-tools\n",
            "Successfully installed camel-kenlm-2020.11.2 camel-tools-1.1.0 sacremoses-0.0.44 sentencepiece-0.1.95 tokenizers-0.8.1rc1 transformers-3.0.2\n",
            "Mounted at /gdrive\n"
          ],
          "name": "stdout"
        }
      ]
    },
    {
      "cell_type": "code",
      "metadata": {
        "id": "HB4xrE9U1V5B"
      },
      "source": [
        "from google.colab import drive\n"
      ],
      "execution_count": null,
      "outputs": []
    },
    {
      "cell_type": "code",
      "metadata": {
        "id": "4tCCXZxvaPDL"
      },
      "source": [
        "#Orthographic Normalization \n",
        "from camel_tools.utils.normalize import normalize_alef_maksura_ar #Without needing to use regex nor indicating what letter to replace with what other letter, thereby consistency in datasets\n",
        "from camel_tools.utils.normalize import normalize_alef_ar\n",
        "from camel_tools.utils.normalize import normalize_teh_marbuta_ar\n",
        "from camel_tools.utils.dediac import  dediac_ar\n",
        "\n",
        "from camel_tools.tokenizers.word import simple_word_tokenize\n",
        "from camel_tools.disambig.mle import MLEDisambiguator\n",
        "from camel_tools.tokenizers.morphological import MorphologicalTokenizer\n",
        "\n",
        "#Orthographic Normalization \n",
        "from camel_tools.utils.normalize import normalize_alef_maksura_ar #Without needing to use regex nor indicating what letter to replace with what other letter, thereby consistency in datasets\n",
        "from camel_tools.utils.normalize import normalize_alef_ar\n",
        "from camel_tools.utils.normalize import normalize_teh_marbuta_ar\n",
        "from camel_tools.utils.dediac import  dediac_ar\n",
        "\n",
        "from camel_tools.tokenizers.word import simple_word_tokenize\n",
        "from camel_tools.disambig.mle import MLEDisambiguator\n",
        "from camel_tools.tokenizers.morphological import MorphologicalTokenizer"
      ],
      "execution_count": null,
      "outputs": []
    },
    {
      "cell_type": "code",
      "metadata": {
        "colab": {
          "base_uri": "https://localhost:8080/"
        },
        "id": "62ESbwpwJVtr",
        "outputId": "f27d0046-43f4-40b0-f5cc-d76358d51039"
      },
      "source": [
        "import pandas as pd\n",
        "import numpy as np\n",
        "import matplotlib.pyplot as plt\n",
        "import string\n",
        "import re\n",
        "from nltk.corpus import stopwords\n",
        "import nltk\n",
        "nltk.download('punkt')\n",
        "nltk.download('stopwords')\n",
        "## for plotting\n",
        "import matplotlib.pyplot as plt\n",
        "import seaborn as sns\n",
        "import wordcloud\n",
        "## for sentiment\n",
        "from textblob import TextBlob\n",
        "import csv\n",
        "from io import open\n",
        "import numpy as np\n",
        "from sklearn.model_selection import train_test_split\n",
        "from sklearn import linear_model\n",
        "from sklearn.metrics import accuracy_score,confusion_matrix,classification_report\n",
        "from sklearn.svm import LinearSVC\n",
        "import gensim\n",
        "import re\n",
        "import spacy\n",
        "\n",
        "from sklearn import preprocessing\n",
        "from sklearn.feature_extraction.text import TfidfVectorizer\n",
        "from sklearn.model_selection import train_test_split\n",
        "from sklearn.linear_model import LogisticRegression\n",
        "from sklearn.metrics import accuracy_score,confusion_matrix,classification_report\n",
        "from sklearn_pandas import DataFrameMapper\n",
        "from sklearn.svm import LinearSVC\n",
        "\n",
        "\n",
        "\n",
        "import nltk\n",
        "from nltk.stem.isri import ISRIStemmer\n",
        "\n",
        "\n",
        "import pandas as pd\n",
        "import numpy as np\n",
        "import matplotlib.pyplot as plt\n",
        "import string\n",
        "import re\n",
        "from nltk.corpus import stopwords\n",
        "import nltk\n",
        "nltk.download('punkt')\n",
        "nltk.download('stopwords')\n",
        "## for plotting\n",
        "import matplotlib.pyplot as plt\n",
        "import seaborn as sns\n",
        "import wordcloud\n",
        "## for sentiment\n",
        "from textblob import TextBlob\n",
        "import csv\n",
        "from io import open\n",
        "import numpy as np\n",
        "from sklearn.model_selection import train_test_split\n",
        "from sklearn import linear_model\n",
        "from sklearn.metrics import accuracy_score,confusion_matrix,classification_report\n",
        "from sklearn.svm import LinearSVC\n",
        "import gensim\n",
        "import re\n",
        "import spacy\n",
        "\n",
        "from sklearn import preprocessing\n",
        "from sklearn.feature_extraction.text import TfidfVectorizer\n",
        "from sklearn.model_selection import train_test_split\n",
        "from sklearn.linear_model import LogisticRegression\n",
        "from sklearn.metrics import accuracy_score,confusion_matrix,classification_report\n",
        "from sklearn_pandas import DataFrameMapper\n",
        "from sklearn.svm import LinearSVC\n",
        "\n",
        "\n",
        "import nltk\n",
        "from nltk.stem.isri import ISRIStemmer\n",
        "\n",
        "from sklearn import preprocessing\n",
        "from sklearn.feature_extraction.text import TfidfVectorizer\n",
        "from sklearn.model_selection import train_test_split\n",
        "from sklearn.linear_model import LogisticRegression\n",
        "from sklearn.metrics import accuracy_score,confusion_matrix,classification_report\n",
        "from sklearn_pandas import DataFrameMapper\n",
        "from sklearn.svm import LinearSVC\n",
        "\n",
        "import numpy as np \n",
        "import pandas as pd\n",
        "import matplotlib.pyplot as plt \n",
        "from keras.models import Model ,Sequential\n",
        "from keras.layers import Embedding ,Dense ,Dropout , LSTM ,Input ,Activation , Bidirectional ,GlobalMaxPool1D\n",
        "from keras.preprocessing.sequence import pad_sequences\n",
        "from keras.initializers import glorot_uniform\n",
        "%matplotlib inline\n",
        "from sklearn.linear_model import LogisticRegression\n",
        "from sklearn.metrics import accuracy_score,confusion_matrix,classification_report\n",
        "\n",
        "import nltk\n",
        "import gensim\n",
        "nltk.download('punkt')\n",
        "from gensim.models import Word2Vec\n",
        "from sklearn.naive_bayes import MultinomialNB\n",
        "from sklearn import model_selection, preprocessing, linear_model, naive_bayes, metrics, svm\n",
        "\n",
        "from sklearn import model_selection, preprocessing, linear_model, naive_bayes, metrics, svm\n",
        "from sklearn.feature_extraction.text import TfidfVectorizer, CountVectorizer\n",
        "from sklearn import decomposition, ensemble\n",
        "\n",
        "import pandas, xgboost, numpy, textblob, string\n",
        "from keras.preprocessing import text, sequence\n",
        "from keras import layers, models, optimizers"
      ],
      "execution_count": null,
      "outputs": [
        {
          "output_type": "stream",
          "text": [
            "[nltk_data] Downloading package punkt to /root/nltk_data...\n",
            "[nltk_data]   Package punkt is already up-to-date!\n",
            "[nltk_data] Downloading package stopwords to /root/nltk_data...\n",
            "[nltk_data]   Package stopwords is already up-to-date!\n",
            "[nltk_data] Downloading package punkt to /root/nltk_data...\n",
            "[nltk_data]   Package punkt is already up-to-date!\n",
            "[nltk_data] Downloading package stopwords to /root/nltk_data...\n",
            "[nltk_data]   Package stopwords is already up-to-date!\n",
            "[nltk_data] Downloading package punkt to /root/nltk_data...\n",
            "[nltk_data]   Package punkt is already up-to-date!\n"
          ],
          "name": "stdout"
        }
      ]
    },
    {
      "cell_type": "code",
      "metadata": {
        "colab": {
          "base_uri": "https://localhost:8080/"
        },
        "id": "-3EoovhaZenq",
        "outputId": "781ef1cd-3a6b-44b9-9e72-730c3a62febd"
      },
      "source": [
        "#Mount drive\n",
        "from google.colab import drive\n",
        "import os\n",
        "\n",
        "drive.mount('/gdrive')\n",
        "\n",
        "%mkdir /gdrive/MyDrive/camel_tools"
      ],
      "execution_count": null,
      "outputs": [
        {
          "output_type": "stream",
          "text": [
            "Drive already mounted at /gdrive; to attempt to forcibly remount, call drive.mount(\"/gdrive\", force_remount=True).\n",
            "mkdir: cannot create directory ‘/gdrive/MyDrive/camel_tools’: File exists\n"
          ],
          "name": "stdout"
        }
      ]
    },
    {
      "cell_type": "code",
      "metadata": {
        "id": "kXkesbpBio_y"
      },
      "source": [
        "#data =pd.read_excel(\"/content/drive/MyDrive/NLP_Project/Data.xlsx\") \n",
        "data =pd.read_excel(\"Data.xlsx\") "
      ],
      "execution_count": null,
      "outputs": []
    },
    {
      "cell_type": "markdown",
      "metadata": {
        "id": "aMiqacFfSF6K"
      },
      "source": [
        "##**1. Feature Engineering:**\n",
        "---"
      ]
    },
    {
      "cell_type": "markdown",
      "metadata": {
        "id": "8WgniOn_5ouQ"
      },
      "source": [
        "####  Length:\n",
        "\n",
        "There are several length measures for text data. I will give some examples:\n",
        "1. character count: sum the number of characters of each token\n",
        "sentence count: count the number of sentences (separated by a period)\n",
        "2. word density: sum of words length divided by the number of words (character count/word count)\n",
        "3. sentence density: sum of sentences length divided by the number of sentences (word count/sentence count)\n",
        "\n"
      ]
    },
    {
      "cell_type": "code",
      "metadata": {
        "colab": {
          "base_uri": "https://localhost:8080/",
          "height": 202
        },
        "id": "cGDlfBGA3_7Q",
        "outputId": "cfb3bea3-ad9c-4682-fc73-d62f0740d3ae"
      },
      "source": [
        "word = data[\"Text\"].apply(lambda x: len(str(x).split(\" \")))\n",
        "data['char_count'] = data[\"Text\"].apply(lambda x: sum(len(word) for word in str(x).split(\" \")))\n",
        "sentence = data[\"Text\"].apply(lambda x: len(str(x).split(\".\")))\n",
        "data['word_density'] = data['char_count'] / word\n",
        "data['sentence_density'] = word / sentence\n",
        "data.head()"
      ],
      "execution_count": null,
      "outputs": [
        {
          "output_type": "execute_result",
          "data": {
            "text/html": [
              "<div>\n",
              "<style scoped>\n",
              "    .dataframe tbody tr th:only-of-type {\n",
              "        vertical-align: middle;\n",
              "    }\n",
              "\n",
              "    .dataframe tbody tr th {\n",
              "        vertical-align: top;\n",
              "    }\n",
              "\n",
              "    .dataframe thead th {\n",
              "        text-align: right;\n",
              "    }\n",
              "</style>\n",
              "<table border=\"1\" class=\"dataframe\">\n",
              "  <thead>\n",
              "    <tr style=\"text-align: right;\">\n",
              "      <th></th>\n",
              "      <th>Text</th>\n",
              "      <th>Category</th>\n",
              "      <th>char_count</th>\n",
              "      <th>word_density</th>\n",
              "      <th>sentence_density</th>\n",
              "    </tr>\n",
              "  </thead>\n",
              "  <tbody>\n",
              "    <tr>\n",
              "      <th>0</th>\n",
              "      <td>هجمات باريس رهائن مسرح باتاكلان يقفزون نوافذ ه...</td>\n",
              "      <td>هجمات_باريس</td>\n",
              "      <td>377</td>\n",
              "      <td>4.960526</td>\n",
              "      <td>76.0</td>\n",
              "    </tr>\n",
              "    <tr>\n",
              "      <th>1</th>\n",
              "      <td>داعش يتبنى هجمات باريس يقول انتحاريين اعلن تنظ...</td>\n",
              "      <td>هجمات_باريس</td>\n",
              "      <td>490</td>\n",
              "      <td>5.157895</td>\n",
              "      <td>95.0</td>\n",
              "    </tr>\n",
              "    <tr>\n",
              "      <th>2</th>\n",
              "      <td>فيديو لحظه تفجيرين مباراه فرنسا مانيا باريس اظ...</td>\n",
              "      <td>هجمات_باريس</td>\n",
              "      <td>440</td>\n",
              "      <td>4.943820</td>\n",
              "      <td>89.0</td>\n",
              "    </tr>\n",
              "    <tr>\n",
              "      <th>3</th>\n",
              "      <td>برلمان فرنسي يوافق مشروع قرار بتمديد حاله طوار...</td>\n",
              "      <td>هجمات_باريس</td>\n",
              "      <td>720</td>\n",
              "      <td>4.965517</td>\n",
              "      <td>145.0</td>\n",
              "    </tr>\n",
              "    <tr>\n",
              "      <th>4</th>\n",
              "      <td>دقيقه ارواح ضحايا هجمات فرنسا ساحه جمهوريه بار...</td>\n",
              "      <td>هجمات_باريس</td>\n",
              "      <td>359</td>\n",
              "      <td>4.986111</td>\n",
              "      <td>72.0</td>\n",
              "    </tr>\n",
              "  </tbody>\n",
              "</table>\n",
              "</div>"
            ],
            "text/plain": [
              "                                                Text  ... sentence_density\n",
              "0  هجمات باريس رهائن مسرح باتاكلان يقفزون نوافذ ه...  ...             76.0\n",
              "1  داعش يتبنى هجمات باريس يقول انتحاريين اعلن تنظ...  ...             95.0\n",
              "2  فيديو لحظه تفجيرين مباراه فرنسا مانيا باريس اظ...  ...             89.0\n",
              "3  برلمان فرنسي يوافق مشروع قرار بتمديد حاله طوار...  ...            145.0\n",
              "4  دقيقه ارواح ضحايا هجمات فرنسا ساحه جمهوريه بار...  ...             72.0\n",
              "\n",
              "[5 rows x 5 columns]"
            ]
          },
          "metadata": {
            "tags": []
          },
          "execution_count": 18
        }
      ]
    },
    {
      "cell_type": "code",
      "metadata": {
        "colab": {
          "base_uri": "https://localhost:8080/",
          "height": 415
        },
        "id": "nuZl3Ec_yXAK",
        "outputId": "6703015c-3f65-4f1e-b91d-9d4018942c9e"
      },
      "source": [
        "data"
      ],
      "execution_count": null,
      "outputs": [
        {
          "output_type": "execute_result",
          "data": {
            "text/html": [
              "<div>\n",
              "<style scoped>\n",
              "    .dataframe tbody tr th:only-of-type {\n",
              "        vertical-align: middle;\n",
              "    }\n",
              "\n",
              "    .dataframe tbody tr th {\n",
              "        vertical-align: top;\n",
              "    }\n",
              "\n",
              "    .dataframe thead th {\n",
              "        text-align: right;\n",
              "    }\n",
              "</style>\n",
              "<table border=\"1\" class=\"dataframe\">\n",
              "  <thead>\n",
              "    <tr style=\"text-align: right;\">\n",
              "      <th></th>\n",
              "      <th>Text</th>\n",
              "      <th>Category</th>\n",
              "      <th>char_count</th>\n",
              "      <th>word_density</th>\n",
              "      <th>sentence_density</th>\n",
              "    </tr>\n",
              "  </thead>\n",
              "  <tbody>\n",
              "    <tr>\n",
              "      <th>0</th>\n",
              "      <td>هجمات باريس رهائن مسرح باتاكلان يقفزون نوافذ ه...</td>\n",
              "      <td>هجمات_باريس</td>\n",
              "      <td>377</td>\n",
              "      <td>4.960526</td>\n",
              "      <td>76.0</td>\n",
              "    </tr>\n",
              "    <tr>\n",
              "      <th>1</th>\n",
              "      <td>داعش يتبنى هجمات باريس يقول انتحاريين اعلن تنظ...</td>\n",
              "      <td>هجمات_باريس</td>\n",
              "      <td>490</td>\n",
              "      <td>5.157895</td>\n",
              "      <td>95.0</td>\n",
              "    </tr>\n",
              "    <tr>\n",
              "      <th>2</th>\n",
              "      <td>فيديو لحظه تفجيرين مباراه فرنسا مانيا باريس اظ...</td>\n",
              "      <td>هجمات_باريس</td>\n",
              "      <td>440</td>\n",
              "      <td>4.943820</td>\n",
              "      <td>89.0</td>\n",
              "    </tr>\n",
              "    <tr>\n",
              "      <th>3</th>\n",
              "      <td>برلمان فرنسي يوافق مشروع قرار بتمديد حاله طوار...</td>\n",
              "      <td>هجمات_باريس</td>\n",
              "      <td>720</td>\n",
              "      <td>4.965517</td>\n",
              "      <td>145.0</td>\n",
              "    </tr>\n",
              "    <tr>\n",
              "      <th>4</th>\n",
              "      <td>دقيقه ارواح ضحايا هجمات فرنسا ساحه جمهوريه بار...</td>\n",
              "      <td>هجمات_باريس</td>\n",
              "      <td>359</td>\n",
              "      <td>4.986111</td>\n",
              "      <td>72.0</td>\n",
              "    </tr>\n",
              "    <tr>\n",
              "      <th>...</th>\n",
              "      <td>...</td>\n",
              "      <td>...</td>\n",
              "      <td>...</td>\n",
              "      <td>...</td>\n",
              "      <td>...</td>\n",
              "    </tr>\n",
              "    <tr>\n",
              "      <th>23861</th>\n",
              "      <td>بريطانيا مسمار اخير اتفاق تجاره امريكي اوروبي ...</td>\n",
              "      <td>استفتاء_بريطانيا</td>\n",
              "      <td>852</td>\n",
              "      <td>5.325000</td>\n",
              "      <td>160.0</td>\n",
              "    </tr>\n",
              "    <tr>\n",
              "      <th>23862</th>\n",
              "      <td>دولي يخفض توقعاته لنمو اقتصاد عالمي صندوق دولي...</td>\n",
              "      <td>استفتاء_بريطانيا</td>\n",
              "      <td>585</td>\n",
              "      <td>5.086957</td>\n",
              "      <td>115.0</td>\n",
              "    </tr>\n",
              "    <tr>\n",
              "      <th>23863</th>\n",
              "      <td>احتياطات ماليه لندن تصدي بريكست ماليه بريطاني ...</td>\n",
              "      <td>استفتاء_بريطانيا</td>\n",
              "      <td>549</td>\n",
              "      <td>5.228571</td>\n",
              "      <td>105.0</td>\n",
              "    </tr>\n",
              "    <tr>\n",
              "      <th>23864</th>\n",
              "      <td>عمال يتعهد تخلي خروج اتحاد اوروبي تعهد عمال بر...</td>\n",
              "      <td>استفتاء_بريطانيا</td>\n",
              "      <td>792</td>\n",
              "      <td>5.176471</td>\n",
              "      <td>153.0</td>\n",
              "    </tr>\n",
              "    <tr>\n",
              "      <th>23865</th>\n",
              "      <td>تشيكيا تكرر استقبال مهاجرين مسلمين رئيس تشيكي ...</td>\n",
              "      <td>استفتاء_بريطانيا</td>\n",
              "      <td>624</td>\n",
              "      <td>5.333333</td>\n",
              "      <td>117.0</td>\n",
              "    </tr>\n",
              "  </tbody>\n",
              "</table>\n",
              "<p>23866 rows × 5 columns</p>\n",
              "</div>"
            ],
            "text/plain": [
              "                                                    Text  ... sentence_density\n",
              "0      هجمات باريس رهائن مسرح باتاكلان يقفزون نوافذ ه...  ...             76.0\n",
              "1      داعش يتبنى هجمات باريس يقول انتحاريين اعلن تنظ...  ...             95.0\n",
              "2      فيديو لحظه تفجيرين مباراه فرنسا مانيا باريس اظ...  ...             89.0\n",
              "3      برلمان فرنسي يوافق مشروع قرار بتمديد حاله طوار...  ...            145.0\n",
              "4      دقيقه ارواح ضحايا هجمات فرنسا ساحه جمهوريه بار...  ...             72.0\n",
              "...                                                  ...  ...              ...\n",
              "23861  بريطانيا مسمار اخير اتفاق تجاره امريكي اوروبي ...  ...            160.0\n",
              "23862  دولي يخفض توقعاته لنمو اقتصاد عالمي صندوق دولي...  ...            115.0\n",
              "23863  احتياطات ماليه لندن تصدي بريكست ماليه بريطاني ...  ...            105.0\n",
              "23864  عمال يتعهد تخلي خروج اتحاد اوروبي تعهد عمال بر...  ...            153.0\n",
              "23865  تشيكيا تكرر استقبال مهاجرين مسلمين رئيس تشيكي ...  ...            117.0\n",
              "\n",
              "[23866 rows x 5 columns]"
            ]
          },
          "metadata": {
            "tags": []
          },
          "execution_count": 41
        }
      ]
    },
    {
      "cell_type": "markdown",
      "metadata": {
        "id": "tWiFdGZSWJ26"
      },
      "source": [
        "##**2. Text Cleaing and Pre-Processing:**\n",
        "---\n",
        "\n"
      ]
    },
    {
      "cell_type": "code",
      "metadata": {
        "id": "qOcpsLlhocsD"
      },
      "source": [
        "# The first step is to subject the data to preprocessing.\n",
        "# This involves removing both arabic and english punctuation\n",
        "# Normalizing different letter variants with one common letter\n",
        "\n",
        "# first we define a list of arabic punctiations that we want to get rid of in our text\n",
        "punctuations = '''`÷×؛<>_()*&^%][ـ،/:\"؟.,'{}~¦+|!”…“–ـ''' + string.punctuation\n",
        "\n",
        "# Arabic stop words with nltk\n",
        "stop_words = stopwords.words()\n",
        "\n",
        "arabic_diacritics = re.compile(\"\"\"\n",
        "                             ّ    | # Shadda\n",
        "                             َ    | # Fatha\n",
        "                             ً    | # Tanwin Fath\n",
        "                             ُ    | # Damma\n",
        "                             ٌ    | # Tanwin Damm\n",
        "                             ِ    | # Kasra\n",
        "                             ٍ    | # Tanwin Kasr\n",
        "                             ْ    | # Sukun\n",
        "                             ـ     # Tatwil/Kashida\n",
        "                         \"\"\", re.VERBOSE)"
      ],
      "execution_count": null,
      "outputs": []
    },
    {
      "cell_type": "code",
      "metadata": {
        "id": "wi-bpn7hURhN"
      },
      "source": [
        "def cleaing (text):\n",
        "\n",
        "  # 1.removing extra spaces\n",
        "  text = re.sub(\"s+\",\" \", text)\n",
        "\n",
        "  # 2.remove repeating char\n",
        "  text= re.sub(r'(.)\\1+', r'\\1', text)  \n",
        "\n",
        "\n",
        "  return text"
      ],
      "execution_count": null,
      "outputs": []
    },
    {
      "cell_type": "code",
      "metadata": {
        "id": "wcaAhINsHOG8"
      },
      "source": [
        "def preprocess(text):\n",
        "  \n",
        "    # 0. cleaing\n",
        "    text= cleaing(text)\n",
        "    \n",
        "    # 1.remove punctuations\n",
        "    translator = str.maketrans('', '', punctuations)\n",
        "    text = text.translate(translator)\n",
        "    \n",
        "    # 2.remove Tashkeel\n",
        "    #Diacritization (by using CAMeL Tools)\n",
        "    text= dediac_ar(text)\n",
        "    \n",
        "    # 3.Normalize\n",
        "    text = re.sub(\"[إأٱآا]\", \"ا\", text)\n",
        "    text = re.sub(\"ة\", \"ه\", text)\n",
        "    text = re.sub(\"[يى]\", \"ي\", text)\n",
        "    text = re.sub(\"[ئؤ]\", \"ء\", text)\n",
        "\n",
        "    # Normalize (by using CAMeL Tools)\n",
        "    text= normalize_alef_ar(text)\n",
        "    text= normalize_alef_maksura_ar(text)\n",
        "    text=normalize_teh_marbuta_ar(text)\n",
        "\n",
        "\n",
        "    # 4.remove stop words\n",
        "    text = ' '.join(word for word in text.split() if word not in stop_words)\n",
        "\n",
        "    # 5.remove numbers\n",
        "    text = re.sub(\"\\d\",\"\", text)\n",
        "\n",
        "    # 0. cleaing\n",
        "    text= cleaing(text)\n",
        "\n",
        "    return text\n",
        "\n",
        "\n",
        "def Stemming(text):\n",
        "  text= ISRIStemmer().stem(text)\n",
        "  return text\n",
        "\n",
        " \n"
      ],
      "execution_count": null,
      "outputs": []
    },
    {
      "cell_type": "code",
      "metadata": {
        "colab": {
          "base_uri": "https://localhost:8080/"
        },
        "id": "aNwWGstC1ntg",
        "outputId": "6127b874-7b46-4e9a-f257-45c7b385466d"
      },
      "source": [
        "#Morphological Tokenization \n",
        "from camel_tools.tokenizers.word import simple_word_tokenize\n",
        "from camel_tools.disambig.mle import MLEDisambiguator\n",
        "from camel_tools.tokenizers.morphological import MorphologicalTokenizer\n",
        "\n",
        "mle = MLEDisambiguator.pretrained('calima-msa-r13')\n",
        "\n",
        "\n",
        "i=0\n",
        "while(i<len(data)):\n",
        "  # The tokenizer expects pre-tokenized text\n",
        "  sentence = simple_word_tokenize(data['Text'][i] )\n",
        "\n",
        "  # By specifying `split=True`, the morphological tokens are output as seperate\n",
        "  # strings.\n",
        "  tokenizer = MorphologicalTokenizer(mle, scheme='d3tok', split=True)\n",
        "  tokens = tokenizer.tokenize(sentence)\n",
        "  #\n",
        "  data['Text'][i]=' '.join([v for v in tokens])\n",
        "  i+=1\n",
        "\n"
      ],
      "execution_count": null,
      "outputs": [
        {
          "output_type": "stream",
          "text": [
            "/usr/local/lib/python3.7/dist-packages/ipykernel_launcher.py:19: SettingWithCopyWarning: \n",
            "A value is trying to be set on a copy of a slice from a DataFrame\n",
            "\n",
            "See the caveats in the documentation: https://pandas.pydata.org/pandas-docs/stable/user_guide/indexing.html#returning-a-view-versus-a-copy\n"
          ],
          "name": "stderr"
        }
      ]
    },
    {
      "cell_type": "code",
      "metadata": {
        "id": "Bdwqf9s2irbN"
      },
      "source": [
        "data['Text'] = data['Text'].apply(Stemming)\n",
        "#data['Text'] = data['Text'].apply(preprocess)\n",
        "i=0 \n",
        "while(i<len(data)):\n",
        "  data['Text'][i]=preprocess(data['Text'][i])\n",
        " \n",
        "  i+=1"
      ],
      "execution_count": null,
      "outputs": []
    },
    {
      "cell_type": "code",
      "metadata": {
        "colab": {
          "base_uri": "https://localhost:8080/",
          "height": 17
        },
        "id": "NgDJixWGO3go",
        "outputId": "4657db4b-e147-41b4-b4c3-833f22ebbcc2"
      },
      "source": [
        "from google.colab import files\n",
        "\n",
        "data.to_excel(\"cleanData.xlsx\", index=False, encoding='utf8')\n",
        "\n",
        "files.download(\"cleanData.xlsx\")"
      ],
      "execution_count": null,
      "outputs": [
        {
          "output_type": "display_data",
          "data": {
            "application/javascript": [
              "\n",
              "    async function download(id, filename, size) {\n",
              "      if (!google.colab.kernel.accessAllowed) {\n",
              "        return;\n",
              "      }\n",
              "      const div = document.createElement('div');\n",
              "      const label = document.createElement('label');\n",
              "      label.textContent = `Downloading \"${filename}\": `;\n",
              "      div.appendChild(label);\n",
              "      const progress = document.createElement('progress');\n",
              "      progress.max = size;\n",
              "      div.appendChild(progress);\n",
              "      document.body.appendChild(div);\n",
              "\n",
              "      const buffers = [];\n",
              "      let downloaded = 0;\n",
              "\n",
              "      const channel = await google.colab.kernel.comms.open(id);\n",
              "      // Send a message to notify the kernel that we're ready.\n",
              "      channel.send({})\n",
              "\n",
              "      for await (const message of channel.messages) {\n",
              "        // Send a message to notify the kernel that we're ready.\n",
              "        channel.send({})\n",
              "        if (message.buffers) {\n",
              "          for (const buffer of message.buffers) {\n",
              "            buffers.push(buffer);\n",
              "            downloaded += buffer.byteLength;\n",
              "            progress.value = downloaded;\n",
              "          }\n",
              "        }\n",
              "      }\n",
              "      const blob = new Blob(buffers, {type: 'application/binary'});\n",
              "      const a = document.createElement('a');\n",
              "      a.href = window.URL.createObjectURL(blob);\n",
              "      a.download = filename;\n",
              "      div.appendChild(a);\n",
              "      a.click();\n",
              "      div.remove();\n",
              "    }\n",
              "  "
            ],
            "text/plain": [
              "<IPython.core.display.Javascript object>"
            ]
          },
          "metadata": {
            "tags": []
          }
        },
        {
          "output_type": "display_data",
          "data": {
            "application/javascript": [
              "download(\"download_b0c26dba-6e10-4ed3-b303-6731852baf8f\", \"cleanData.xlsx\", 12221391)"
            ],
            "text/plain": [
              "<IPython.core.display.Javascript object>"
            ]
          },
          "metadata": {
            "tags": []
          }
        }
      ]
    },
    {
      "cell_type": "code",
      "metadata": {
        "id": "PkxqjGV2uvnv"
      },
      "source": [
        "data =pd.read_excel(\"/content/drive/MyDrive/NLP_Project/cleanData.xlsx\") \n",
        "balanced_data= pd.read_excel(\"/content/drive/MyDrive/NLP_Project/cleanData.xlsx\") "
      ],
      "execution_count": null,
      "outputs": []
    },
    {
      "cell_type": "markdown",
      "metadata": {
        "id": "gZzydggs_4wz"
      },
      "source": [
        "#####  After we build some models we noticed the accuracy was better than f1-score so we expected the data was imbalanced let's make sure:\n",
        "\n",
        "---\n",
        "\n"
      ]
    },
    {
      "cell_type": "code",
      "metadata": {
        "colab": {
          "base_uri": "https://localhost:8080/",
          "height": 152
        },
        "id": "f4UuQ2le_7iI",
        "outputId": "d7825784-35fb-4cd9-a67a-b3cbc0b37e7e"
      },
      "source": [
        "import seaborn as sns\n",
        "sns.catplot(x=\"Category\", kind=\"count\", palette=\"cool\", data=data,height=5, aspect=10)"
      ],
      "execution_count": null,
      "outputs": [
        {
          "output_type": "execute_result",
          "data": {
            "text/plain": [
              "<seaborn.axisgrid.FacetGrid at 0x7fdc2608e090>"
            ]
          },
          "metadata": {
            "tags": []
          },
          "execution_count": 24
        },
        {
          "output_type": "display_data",
          "data": {
            "image/png": "[encoded data removed]",
            "text/plain": [
              "<Figure size 3600x360 with 1 Axes>"
            ]
          },
          "metadata": {
            "tags": [],
            "needs_background": "light"
          }
        }
      ]
    },
    {
      "cell_type": "code",
      "metadata": {
        "colab": {
          "base_uri": "https://localhost:8080/"
        },
        "id": "48RHT69YApvl",
        "outputId": "b3b218c1-5123-4d98-ac59-a7bc3ee871db"
      },
      "source": [
        "data[\"Category\"].value_counts()  "
      ],
      "execution_count": null,
      "outputs": [
        {
          "output_type": "execute_result",
          "data": {
            "text/plain": [
              "كرة_القدم                       4208\n",
              "الأزمة_السورية                 2104\n",
              "جماعات_مسلحة                    1528\n",
              "أسواق_النفط                    1247\n",
              "رياضات_اخرى                      981\n",
              "المعارضة_السورية                 961\n",
              "لاجئون                          755\n",
              "الهجرة_إلى_أوروبا              579\n",
              "فضاء                             578\n",
              "التقنية_والمعلومات               568\n",
              "الأزمة_اليمنية                  545\n",
              "صواريخ                           533\n",
              "تفجيرات                          504\n",
              "الأزمة_الأوكرانية              502\n",
              "أسلحة_ومعدات_عسكرية             491\n",
              "مشاهير                           482\n",
              "معلومات_عامة                     445\n",
              "طائرات_حربية                    441\n",
              "الانتخابات_الأمريكية            436\n",
              "مظاهرات                          413\n",
              "اكتشافات                         408\n",
              "جرائم                           400\n",
              "البحوث_الطبية                    393\n",
              "الاعتراف_بدولة_فلسطين            366\n",
              "مؤشرات_اقتصادية                 363\n",
              "عقوبات_اقتصادية                  349\n",
              "امراض                            322\n",
              "أولمبياد_ريو_دي_جانيرو_2016     314\n",
              "انقلاب_تركيا                     300\n",
              "عملية_تحرير_الموصل               294\n",
              "هجمات_باريس                      284\n",
              "مناورات_عسكرية                   254\n",
              "اتفاق_ايران_النووي               250\n",
              "السياحة_في_العالم                192\n",
              "البورصات                         185\n",
              "مخدرات                           183\n",
              "استفتاء_بريطانيا                 182\n",
              "علم_الآثار_والتاريخ             182\n",
              "كوارث_جوية                       177\n",
              "موسيقى                           167\n",
              "Name: Category, dtype: int64"
            ]
          },
          "metadata": {
            "tags": []
          },
          "execution_count": 25
        }
      ]
    },
    {
      "cell_type": "code",
      "metadata": {
        "id": "u-d0bgIFfdbl"
      },
      "source": [
        "Categories= data[\"Category\"].unique()\n",
        "meen= data[\"Category\"].value_counts().mean() \n",
        "balanced_data=data"
      ],
      "execution_count": null,
      "outputs": []
    },
    {
      "cell_type": "code",
      "metadata": {
        "id": "xQ5Zgz0tf1I7"
      },
      "source": [
        "for Category in Categories:\n",
        "  c= balanced_data[balanced_data[\"Category\"]==Category].count()[0]\n",
        "  if(c>meen):\n",
        "    remove= c- meen\n",
        "    balanced_data.drop(balanced_data[balanced_data[(\"Category\")]== Category].index[:int(remove)], inplace = True)"
      ],
      "execution_count": null,
      "outputs": []
    },
    {
      "cell_type": "code",
      "metadata": {
        "colab": {
          "base_uri": "https://localhost:8080/",
          "height": 152
        },
        "id": "4FYZKpB6ges0",
        "outputId": "336b2724-c292-40ca-d143-673d98ce805a"
      },
      "source": [
        "import seaborn as sns\n",
        "sns.catplot(x=\"Category\", kind=\"count\", palette=\"cool\", data=balanced_data,height=5, aspect=10)"
      ],
      "execution_count": null,
      "outputs": [
        {
          "output_type": "execute_result",
          "data": {
            "text/plain": [
              "<seaborn.axisgrid.FacetGrid at 0x7fdbf4d4c7d0>"
            ]
          },
          "metadata": {
            "tags": []
          },
          "execution_count": 30
        },
        {
          "output_type": "display_data",
          "data": {
            "image/png": "[encoded data removed]",
            "text/plain": [
              "<Figure size 3600x360 with 1 Axes>"
            ]
          },
          "metadata": {
            "tags": [],
            "needs_background": "light"
          }
        }
      ]
    },
    {
      "cell_type": "code",
      "metadata": {
        "colab": {
          "base_uri": "https://localhost:8080/",
          "height": 17
        },
        "id": "A5kTuhgWFKOO",
        "outputId": "0553713b-2050-4e5c-e7d5-602f2a6a1fd2"
      },
      "source": [
        "from google.colab import files\n",
        "\n",
        "balanced_data.to_excel(\"balanced_data.xlsx\", index=False, encoding='utf8')\n",
        "\n",
        "files.download(\"balanced_data.xlsx\")"
      ],
      "execution_count": null,
      "outputs": [
        {
          "output_type": "display_data",
          "data": {
            "application/javascript": [
              "\n",
              "    async function download(id, filename, size) {\n",
              "      if (!google.colab.kernel.accessAllowed) {\n",
              "        return;\n",
              "      }\n",
              "      const div = document.createElement('div');\n",
              "      const label = document.createElement('label');\n",
              "      label.textContent = `Downloading \"${filename}\": `;\n",
              "      div.appendChild(label);\n",
              "      const progress = document.createElement('progress');\n",
              "      progress.max = size;\n",
              "      div.appendChild(progress);\n",
              "      document.body.appendChild(div);\n",
              "\n",
              "      const buffers = [];\n",
              "      let downloaded = 0;\n",
              "\n",
              "      const channel = await google.colab.kernel.comms.open(id);\n",
              "      // Send a message to notify the kernel that we're ready.\n",
              "      channel.send({})\n",
              "\n",
              "      for await (const message of channel.messages) {\n",
              "        // Send a message to notify the kernel that we're ready.\n",
              "        channel.send({})\n",
              "        if (message.buffers) {\n",
              "          for (const buffer of message.buffers) {\n",
              "            buffers.push(buffer);\n",
              "            downloaded += buffer.byteLength;\n",
              "            progress.value = downloaded;\n",
              "          }\n",
              "        }\n",
              "      }\n",
              "      const blob = new Blob(buffers, {type: 'application/binary'});\n",
              "      const a = document.createElement('a');\n",
              "      a.href = window.URL.createObjectURL(blob);\n",
              "      a.download = filename;\n",
              "      div.appendChild(a);\n",
              "      a.click();\n",
              "      div.remove();\n",
              "    }\n",
              "  "
            ],
            "text/plain": [
              "<IPython.core.display.Javascript object>"
            ]
          },
          "metadata": {
            "tags": []
          }
        },
        {
          "output_type": "display_data",
          "data": {
            "application/javascript": [
              "download(\"download_9e7bb102-e839-4d41-9279-a42bd696e4b6\", \"balanced_data.xlsx\", 8593869)"
            ],
            "text/plain": [
              "<IPython.core.display.Javascript object>"
            ]
          },
          "metadata": {
            "tags": []
          }
        }
      ]
    },
    {
      "cell_type": "code",
      "metadata": {
        "id": "fysyujSVf9MQ"
      },
      "source": [
        "balanced_data =pd.read_excel(\"/content/drive/MyDrive/NLP_Project/balanced_data.xlsx\") "
      ],
      "execution_count": null,
      "outputs": []
    },
    {
      "cell_type": "code",
      "metadata": {
        "colab": {
          "base_uri": "https://localhost:8080/",
          "height": 70
        },
        "id": "NkSL90-2dKjV",
        "outputId": "d9dc642d-9e41-443a-83a9-ba2148329399"
      },
      "source": [
        "balanced_data[balanced_data['encoded'] ==39]\n",
        "balanced_data['Text'][0]"
      ],
      "execution_count": null,
      "outputs": [
        {
          "output_type": "execute_result",
          "data": {
            "application/vnd.google.colaboratory.intrinsic+json": {
              "type": "string"
            },
            "text/plain": [
              "'هجمات باريس رهاءن مسرح باتاكلان يقفزون نوافذ هربا فيديو اظهر تسجيل فيديو نشرت ه صحيفه لوموند فرنسيه لحظه تمكن رهاءن فرار خلف ني ل مسرح باتاكلان احتجاز رهينه ارهابين باريس تعلن حال ه طوارء حداد بعيد تفجيرات داميه اوقعت قتيلا فيديو تسجيل لحظه خروج رهاءن نوافذ شوارع خلفيه مسرح عاصمه باريس مطلقين صرخات عويل مسلحين ملثمين اقتح مسرح باتاكلان يقدم حفل ه ل موسيقي ب اطلاق ب شكل عشواءي حضور قاموا ب احتجاز رهاءن ل مده ثلاث ساعات تقريبا ب تفجير رهاءن مقتل داخل مسرح موند'"
            ]
          },
          "metadata": {
            "tags": []
          },
          "execution_count": 41
        }
      ]
    },
    {
      "cell_type": "markdown",
      "metadata": {
        "id": "DunCH_nSRi21"
      },
      "source": [
        "# **- Text Embedding**:\n"
      ]
    },
    {
      "cell_type": "markdown",
      "metadata": {
        "id": "e8HYTXxK3RSr"
      },
      "source": [
        "## 1. AraVec "
      ]
    },
    {
      "cell_type": "code",
      "metadata": {
        "colab": {
          "base_uri": "https://localhost:8080/"
        },
        "id": "tdaWTsgYpHkB",
        "outputId": "0eaee4c2-cc90-4c77-e4f0-2f1a470169c3"
      },
      "source": [
        "!pip install gensim spacy nltk"
      ],
      "execution_count": null,
      "outputs": [
        {
          "output_type": "stream",
          "text": [
            "Requirement already satisfied: gensim in /usr/local/lib/python3.7/dist-packages (3.6.0)\n",
            "Requirement already satisfied: spacy in /usr/local/lib/python3.7/dist-packages (2.2.4)\n",
            "Requirement already satisfied: nltk in /usr/local/lib/python3.7/dist-packages (3.2.5)\n",
            "Requirement already satisfied: numpy>=1.11.3 in /usr/local/lib/python3.7/dist-packages (from gensim) (1.19.5)\n",
            "Requirement already satisfied: smart-open>=1.2.1 in /usr/local/lib/python3.7/dist-packages (from gensim) (4.2.0)\n",
            "Requirement already satisfied: scipy>=0.18.1 in /usr/local/lib/python3.7/dist-packages (from gensim) (1.4.1)\n",
            "Requirement already satisfied: six>=1.5.0 in /usr/local/lib/python3.7/dist-packages (from gensim) (1.15.0)\n",
            "Requirement already satisfied: requests<3.0.0,>=2.13.0 in /usr/local/lib/python3.7/dist-packages (from spacy) (2.23.0)\n",
            "Requirement already satisfied: srsly<1.1.0,>=1.0.2 in /usr/local/lib/python3.7/dist-packages (from spacy) (1.0.5)\n",
            "Requirement already satisfied: thinc==7.4.0 in /usr/local/lib/python3.7/dist-packages (from spacy) (7.4.0)\n",
            "Requirement already satisfied: plac<1.2.0,>=0.9.6 in /usr/local/lib/python3.7/dist-packages (from spacy) (1.1.3)\n",
            "Requirement already satisfied: preshed<3.1.0,>=3.0.2 in /usr/local/lib/python3.7/dist-packages (from spacy) (3.0.5)\n",
            "Requirement already satisfied: wasabi<1.1.0,>=0.4.0 in /usr/local/lib/python3.7/dist-packages (from spacy) (0.8.2)\n",
            "Requirement already satisfied: setuptools in /usr/local/lib/python3.7/dist-packages (from spacy) (54.2.0)\n",
            "Requirement already satisfied: murmurhash<1.1.0,>=0.28.0 in /usr/local/lib/python3.7/dist-packages (from spacy) (1.0.5)\n",
            "Requirement already satisfied: tqdm<5.0.0,>=4.38.0 in /usr/local/lib/python3.7/dist-packages (from spacy) (4.41.1)\n",
            "Requirement already satisfied: cymem<2.1.0,>=2.0.2 in /usr/local/lib/python3.7/dist-packages (from spacy) (2.0.5)\n",
            "Requirement already satisfied: catalogue<1.1.0,>=0.0.7 in /usr/local/lib/python3.7/dist-packages (from spacy) (1.0.0)\n",
            "Requirement already satisfied: blis<0.5.0,>=0.4.0 in /usr/local/lib/python3.7/dist-packages (from spacy) (0.4.1)\n",
            "Requirement already satisfied: certifi>=2017.4.17 in /usr/local/lib/python3.7/dist-packages (from requests<3.0.0,>=2.13.0->spacy) (2020.12.5)\n",
            "Requirement already satisfied: chardet<4,>=3.0.2 in /usr/local/lib/python3.7/dist-packages (from requests<3.0.0,>=2.13.0->spacy) (3.0.4)\n",
            "Requirement already satisfied: urllib3!=1.25.0,!=1.25.1,<1.26,>=1.21.1 in /usr/local/lib/python3.7/dist-packages (from requests<3.0.0,>=2.13.0->spacy) (1.24.3)\n",
            "Requirement already satisfied: idna<3,>=2.5 in /usr/local/lib/python3.7/dist-packages (from requests<3.0.0,>=2.13.0->spacy) (2.10)\n",
            "Requirement already satisfied: importlib-metadata>=0.20; python_version < \"3.8\" in /usr/local/lib/python3.7/dist-packages (from catalogue<1.1.0,>=0.0.7->spacy) (3.8.1)\n",
            "Requirement already satisfied: zipp>=0.5 in /usr/local/lib/python3.7/dist-packages (from importlib-metadata>=0.20; python_version < \"3.8\"->catalogue<1.1.0,>=0.0.7->spacy) (3.4.1)\n",
            "Requirement already satisfied: typing-extensions>=3.6.4; python_version < \"3.8\" in /usr/local/lib/python3.7/dist-packages (from importlib-metadata>=0.20; python_version < \"3.8\"->catalogue<1.1.0,>=0.0.7->spacy) (3.7.4.3)\n"
          ],
          "name": "stdout"
        }
      ]
    },
    {
      "cell_type": "code",
      "metadata": {
        "colab": {
          "base_uri": "https://localhost:8080/"
        },
        "id": "Hqh5uyKG7D3u",
        "outputId": "74cc9d60-2bcf-4f88-9d31-79bfe8e0a809"
      },
      "source": [
        "# load the AraVec model\n",
        "model = gensim.models.Word2Vec.load(\"/content/drive/MyDrive/NLP_Project/AraVec/www_cbow_100\")\n",
        "print(\"We've\",len(model.wv.index2word),\"vocabularies\")"
      ],
      "execution_count": null,
      "outputs": [
        {
          "output_type": "stream",
          "text": [
            "We've 234961 vocabularies\n"
          ],
          "name": "stdout"
        }
      ]
    },
    {
      "cell_type": "code",
      "metadata": {
        "colab": {
          "base_uri": "https://localhost:8080/"
        },
        "id": "tolYc8zz7mNS",
        "outputId": "09614caf-a4e3-498d-8597-7ef261a8401b"
      },
      "source": [
        "from google.colab import drive\n",
        "drive.mount('/content/drive')"
      ],
      "execution_count": null,
      "outputs": [
        {
          "output_type": "stream",
          "text": [
            "Drive already mounted at /content/drive; to attempt to forcibly remount, call drive.mount(\"/content/drive\", force_remount=True).\n"
          ],
          "name": "stdout"
        }
      ]
    },
    {
      "cell_type": "code",
      "metadata": {
        "id": "SBluBlIS7D6w",
        "colab": {
          "base_uri": "https://localhost:8080/"
        },
        "outputId": "9a34883a-eac6-4b5e-b30e-101ca7e50765"
      },
      "source": [
        "# make a directory called \"spacyModel\"\n",
        "%mkdir spacyModel"
      ],
      "execution_count": null,
      "outputs": [
        {
          "output_type": "stream",
          "text": [
            "mkdir: cannot create directory ‘spacyModel’: File exists\n"
          ],
          "name": "stdout"
        }
      ]
    },
    {
      "cell_type": "code",
      "metadata": {
        "id": "OEcICqhF7D--"
      },
      "source": [
        "# export the word2vec fomart to the directory\n",
        "model.wv.save_word2vec_format(\"./spacyModel/aravec.txt\")"
      ],
      "execution_count": null,
      "outputs": []
    },
    {
      "cell_type": "code",
      "metadata": {
        "id": "s-PvGc0VOBZF"
      },
      "source": [
        "# using `gzip` to compress the .txt file\n",
        "!gzip ./spacyModel/aravec.txt"
      ],
      "execution_count": null,
      "outputs": []
    },
    {
      "cell_type": "code",
      "metadata": {
        "colab": {
          "base_uri": "https://localhost:8080/"
        },
        "id": "y3YN2muJOFoq",
        "outputId": "a27bc6d2-2db5-40c8-8ced-cf5699940092"
      },
      "source": [
        "!python -m spacy  init-model ar spacy.aravec.model --vectors-loc ./spacyModel/aravec.txt.gz"
      ],
      "execution_count": null,
      "outputs": [
        {
          "output_type": "stream",
          "text": [
            "\u001b[2K\u001b[38;5;2m✔ Successfully created model\u001b[0m\n",
            "234961it [00:11, 19772.17it/s]\n",
            "\u001b[2K\u001b[38;5;2m✔ Loaded vectors from spacyModel/aravec.txt.gz\u001b[0m\n",
            "\u001b[38;5;2m✔ Sucessfully compiled vocab\u001b[0m\n",
            "235153 entries, 234961 vectors\n"
          ],
          "name": "stdout"
        }
      ]
    },
    {
      "cell_type": "code",
      "metadata": {
        "id": "VN2iOvglOW91"
      },
      "source": [
        "# load AraVec Spacy model\n",
        "nlp = spacy.load(\"./spacy.aravec.model/\")"
      ],
      "execution_count": null,
      "outputs": []
    },
    {
      "cell_type": "code",
      "metadata": {
        "id": "qDCxm3SLOZXu"
      },
      "source": [
        "# Define the preprocessing Class\n",
        "class Preprocessorr:\n",
        "    def __init__(self, tokenizer, **cfg):\n",
        "        self.tokenizer = tokenizer\n",
        "\n",
        "    def __call__(self, text):\n",
        "        preprocessed = preprocess(text)\n",
        "        return self.tokenizer(preprocessed)"
      ],
      "execution_count": null,
      "outputs": []
    },
    {
      "cell_type": "code",
      "metadata": {
        "id": "Cehb0GXVPNOl"
      },
      "source": [
        "#Apply the `Preprocessor` Class\n",
        "nlp.tokenizer = Preprocessorr(nlp.tokenizer)"
      ],
      "execution_count": null,
      "outputs": []
    },
    {
      "cell_type": "code",
      "metadata": {
        "colab": {
          "base_uri": "https://localhost:8080/"
        },
        "id": "nJkodaOHwz5R",
        "outputId": "28809977-4028-4a83-8208-615afb7d6535"
      },
      "source": [
        "AraVec_word_embedding = np.array([nlp(d).vector for d in balanced_data['Text'].values.astype('U')])\n",
        "\n",
        "# print the dimension of x      \n",
        "print(AraVec_word_embedding.shape)\n"
      ],
      "execution_count": null,
      "outputs": [
        {
          "output_type": "stream",
          "text": [
            "(16261, 100)\n"
          ],
          "name": "stdout"
        }
      ]
    },
    {
      "cell_type": "markdown",
      "metadata": {
        "id": "Dx1IMi9gPhQt"
      },
      "source": [
        "## 3. N-gram  "
      ]
    },
    {
      "cell_type": "code",
      "metadata": {
        "id": "ThYSnMAnjIdK"
      },
      "source": [
        "texts= np.array([d for d in balanced_data['Text']])\n",
        "\n",
        "# ngram level tf-idf \n",
        "tfidf_vect_ngram = TfidfVectorizer(analyzer='word', token_pattern=r'\\w{1,}', ngram_range=(2,3), max_features=5000)\n",
        "tfidf_vect_ngram.fit(balanced_data['Text'])\n",
        "Ngrame_word_embedding =  tfidf_vect_ngram.transform(texts)"
      ],
      "execution_count": null,
      "outputs": []
    },
    {
      "cell_type": "markdown",
      "metadata": {
        "id": "LMHN2jovP_Fi"
      },
      "source": [
        "## 3. Tf-idf  "
      ]
    },
    {
      "cell_type": "code",
      "metadata": {
        "id": "9IX4zz4DRVSd"
      },
      "source": [
        "vect = TfidfVectorizer()"
      ],
      "execution_count": null,
      "outputs": []
    },
    {
      "cell_type": "code",
      "metadata": {
        "id": "yx9tG8Q9TIQW"
      },
      "source": [
        "texts= np.array([d for d in balanced_data['Text']])\n",
        "TfIdf_word_embedding = vect.fit_transform(texts) "
      ],
      "execution_count": null,
      "outputs": []
    },
    {
      "cell_type": "markdown",
      "metadata": {
        "id": "MBEOeF-KTOrM"
      },
      "source": [
        "# **4. Modeling**:\n"
      ]
    },
    {
      "cell_type": "code",
      "metadata": {
        "id": "PLUUE0v5QbS9"
      },
      "source": [
        "# label encode the target variable \n",
        "encoder = preprocessing.LabelEncoder()\n",
        "balanced_data['encoded'] = encoder.fit_transform(balanced_data['Category'])"
      ],
      "execution_count": null,
      "outputs": []
    },
    {
      "cell_type": "code",
      "metadata": {
        "id": "F8_0OQivf78R"
      },
      "source": [
        "y = np.array([d for d in balanced_data['encoded']])"
      ],
      "execution_count": null,
      "outputs": []
    },
    {
      "cell_type": "code",
      "metadata": {
        "id": "mzWOwTY_Vjys"
      },
      "source": [
        "# function to train and test model: take 5 parameters model name, training and testing data. it return the evaluation report\n",
        "def building_model(classifier, X_train, y_train, X_test, y_test):\n",
        "\n",
        "    # fit the training dataset on the classifier\n",
        "    classifier.fit(X_train, y_train)\n",
        "\n",
        "    # predict the labels on validation dataset\n",
        "    prediction = dict()\n",
        "    prediction[\"lr\"] = classifier.predict(X_test)\n",
        "\n",
        "    # report\n",
        "    report= classification_report(y_test,prediction[\"lr\"], output_dict=True)\n",
        "    report2 = classification_report(y_test, prediction[\"lr\"], labels=[0, 1, 2, 3, 4, 5, 6, 7, 8, 9, 10, 11, 12, 13, 14, 15, 16, 17, 18, 19, 20, 21, 22, 23, 24, 25, 26, 27, 28, 29, 30, 31, 32, 33, 34, 35, 36, 37, 38, 39,40],  output_dict=True)\n",
        "    \n",
        "    Precision_macro= report['macro avg']['precision'] * 100\n",
        "    Recall_macro= report['macro avg']['recall'] * 100\n",
        "    f1_macro= report['macro avg']['f1-score'] * 100\n",
        "    Accuracy= report['accuracy'] * 100\n",
        "\n",
        "    Precision_micro= report2['micro avg']['precision'] * 100\n",
        "    Recall_micro= report2['micro avg']['recall'] * 100\n",
        "    f1_micro= report2['micro avg']['f1-score']  * 100\n",
        "\n",
        "    Precision_weighted = report['weighted avg']['precision'] * 100\n",
        "    Recall_weighted = report['weighted avg']['recall'] * 100\n",
        "    f1_weighted = report['weighted avg']['f1-score'] * 100\n",
        "    \n",
        "     \n",
        "\n",
        "    return [Accuracy, Precision_macro,Recall_macro, f1_macro, Precision_micro, Recall_micro,f1_micro,Precision_weighted,Recall_weighted, f1_weighted]"
      ],
      "execution_count": null,
      "outputs": []
    },
    {
      "cell_type": "markdown",
      "metadata": {
        "id": "c8jNUCdaVAD-"
      },
      "source": [
        "## 4.1. Logistic Regrssion: "
      ]
    },
    {
      "cell_type": "code",
      "metadata": {
        "id": "W2sWSmCDJ7i9"
      },
      "source": [
        "classifier = linear_model.LogisticRegression()"
      ],
      "execution_count": null,
      "outputs": []
    },
    {
      "cell_type": "markdown",
      "metadata": {
        "id": "icmGxvgTXvE9"
      },
      "source": [
        "###### 4.1.1. Logistic Regression and Aravec"
      ]
    },
    {
      "cell_type": "code",
      "metadata": {
        "colab": {
          "base_uri": "https://localhost:8080/"
        },
        "id": "GIEaN5LgbUmo",
        "outputId": "f84af4b6-c7ed-4ed2-d947-8e997248d74d"
      },
      "source": [
        "# Without Other Features\n",
        "x = AraVec_word_embedding\n",
        "#------------------------------------\n",
        "\n",
        "X_train,X_test,y_train,y_test = train_test_split(x,y, test_size = 0.2, random_state = 10) #Splitting data into training and testing\n",
        "#------------------------------------\n",
        "\n",
        "report = building_model(classifier, X_train, y_train, X_test, y_test)\n",
        "\n",
        "print ('Accuracy : ',report[0])\n",
        "print ('-----------------------')\n",
        "print ('Precision (macro avg) : ',report[1])\n",
        "print ('Recall (macro avg)   : ',report[2])\n",
        "print ('F-score (macro avg)  : ',report[3])\n",
        "print ('-----------------------')\n",
        "print ('Precision (micro avg) : ',report[4])\n",
        "print ('Recall (micro avg)   : ',report[5])\n",
        "print ('F-score (micro avg)  : ',report[6])\n",
        "print ('-----------------------')\n",
        "print ('Precision (weighted avg) : ',report[7])\n",
        "print ('Recall (weighted avg)   : ',report[8])\n",
        "print ('F-score (weighted avg)  : ',report[9])"
      ],
      "execution_count": null,
      "outputs": [
        {
          "output_type": "stream",
          "text": [
            "Accuracy :  67.04580387334768\n",
            "-----------------------\n",
            "Precision (macro avg) :  67.43773384339148\n",
            "Recall (macro avg)   :  66.86628038055804\n",
            "F-score (macro avg)  :  66.83255092279916\n",
            "-----------------------\n",
            "Precision (micro avg) :  67.04580387334768\n",
            "Recall (micro avg)   :  67.04580387334768\n",
            "F-score (micro avg)  :  67.04580387334768\n",
            "-----------------------\n",
            "Precision (weighted avg) :  67.21039363362891\n",
            "Recall (weighted avg)   :  67.04580387334768\n",
            "F-score (weighted avg)  :  66.88889541102446\n"
          ],
          "name": "stdout"
        },
        {
          "output_type": "stream",
          "text": [
            "/usr/local/lib/python3.7/dist-packages/sklearn/linear_model/_logistic.py:940: ConvergenceWarning: lbfgs failed to converge (status=1):\n",
            "STOP: TOTAL NO. of ITERATIONS REACHED LIMIT.\n",
            "\n",
            "Increase the number of iterations (max_iter) or scale the data as shown in:\n",
            "    https://scikit-learn.org/stable/modules/preprocessing.html\n",
            "Please also refer to the documentation for alternative solver options:\n",
            "    https://scikit-learn.org/stable/modules/linear_model.html#logistic-regression\n",
            "  extra_warning_msg=_LOGISTIC_SOLVER_CONVERGENCE_MSG)\n",
            "/usr/local/lib/python3.7/dist-packages/sklearn/metrics/_classification.py:1272: UndefinedMetricWarning: Precision and F-score are ill-defined and being set to 0.0 in labels with no predicted samples. Use `zero_division` parameter to control this behavior.\n",
            "  _warn_prf(average, modifier, msg_start, len(result))\n",
            "/usr/local/lib/python3.7/dist-packages/sklearn/metrics/_classification.py:1272: UndefinedMetricWarning: Recall and F-score are ill-defined and being set to 0.0 in labels with no true samples. Use `zero_division` parameter to control this behavior.\n",
            "  _warn_prf(average, modifier, msg_start, len(result))\n"
          ],
          "name": "stderr"
        }
      ]
    },
    {
      "cell_type": "code",
      "metadata": {
        "id": "BPUXMIsYYYnS",
        "colab": {
          "base_uri": "https://localhost:8080/"
        },
        "outputId": "a1168584-a97e-4738-d2d9-f00f33700f3a"
      },
      "source": [
        "# With Other Features\n",
        "features= balanced_data.loc[:, [ \"word_density\", \"sentence_density\",\"char_count\"]].values\n",
        "x_Features= np.concatenate([x, features], axis=1)\n",
        "#------------------------------------\n",
        "\n",
        "X_train,X_test,y_train,y_test = train_test_split(x_Features,y, test_size = 0.2, random_state = 10) #Splitting data into training and testing\n",
        "#------------------------------------\n",
        "\n",
        "report = building_model(classifier, X_train, y_train, X_test, y_test)\n",
        "\n",
        "print ('Accuracy : ',report[0])\n",
        "print ('-----------------------')\n",
        "print ('Precision (macro avg) : ',report[1])\n",
        "print ('Recall (macro avg)   : ',report[2])\n",
        "print ('F-score (macro avg)  : ',report[3])\n",
        "print ('-----------------------')\n",
        "print ('Precision (micro avg) : ',report[4])\n",
        "print ('Recall (micro avg)   : ',report[5])\n",
        "print ('F-score (micro avg)  : ',report[6])\n",
        "print ('-----------------------')\n",
        "print ('Precision (weighted avg) : ',report[7])\n",
        "print ('Recall (weighted avg)   : ',report[8])\n",
        "print ('F-score (weighted avg)  : ',report[9])"
      ],
      "execution_count": null,
      "outputs": [
        {
          "output_type": "stream",
          "text": [
            "Accuracy :  53.2739010144482\n",
            "-----------------------\n",
            "Precision (macro avg) :  55.030412741352855\n",
            "Recall (macro avg)   :  51.679237494033224\n",
            "F-score (macro avg)  :  51.80475427786051\n",
            "-----------------------\n",
            "Precision (micro avg) :  53.2739010144482\n",
            "Recall (micro avg)   :  53.2739010144482\n",
            "F-score (micro avg)  :  53.2739010144482\n",
            "-----------------------\n",
            "Precision (weighted avg) :  54.23194786013128\n",
            "Recall (weighted avg)   :  53.2739010144482\n",
            "F-score (weighted avg)  :  52.789107599061126\n"
          ],
          "name": "stdout"
        },
        {
          "output_type": "stream",
          "text": [
            "/usr/local/lib/python3.7/dist-packages/sklearn/linear_model/_logistic.py:940: ConvergenceWarning: lbfgs failed to converge (status=1):\n",
            "STOP: TOTAL NO. of ITERATIONS REACHED LIMIT.\n",
            "\n",
            "Increase the number of iterations (max_iter) or scale the data as shown in:\n",
            "    https://scikit-learn.org/stable/modules/preprocessing.html\n",
            "Please also refer to the documentation for alternative solver options:\n",
            "    https://scikit-learn.org/stable/modules/linear_model.html#logistic-regression\n",
            "  extra_warning_msg=_LOGISTIC_SOLVER_CONVERGENCE_MSG)\n",
            "/usr/local/lib/python3.7/dist-packages/sklearn/metrics/_classification.py:1272: UndefinedMetricWarning: Precision and F-score are ill-defined and being set to 0.0 in labels with no predicted samples. Use `zero_division` parameter to control this behavior.\n",
            "  _warn_prf(average, modifier, msg_start, len(result))\n",
            "/usr/local/lib/python3.7/dist-packages/sklearn/metrics/_classification.py:1272: UndefinedMetricWarning: Recall and F-score are ill-defined and being set to 0.0 in labels with no true samples. Use `zero_division` parameter to control this behavior.\n",
            "  _warn_prf(average, modifier, msg_start, len(result))\n"
          ],
          "name": "stderr"
        }
      ]
    },
    {
      "cell_type": "markdown",
      "metadata": {
        "id": "ubbcptappKKP"
      },
      "source": [
        "###### 4.1.2. Logistic Regression and N-gram"
      ]
    },
    {
      "cell_type": "code",
      "metadata": {
        "colab": {
          "base_uri": "https://localhost:8080/"
        },
        "id": "h4xJjFq9pKKn",
        "outputId": "09565a73-e0bb-4cf8-9270-ac7f20e9ebe6"
      },
      "source": [
        "# Without Other Features\n",
        "x = Ngrame_word_embedding\n",
        "#------------------------------------\n",
        "\n",
        "X_train,X_test,y_train,y_test = train_test_split(x,y, test_size = 0.2, random_state = 10) #Splitting data into training and testing\n",
        "#------------------------------------\n",
        "\n",
        "report = building_model(classifier, X_train, y_train, X_test, y_test)\n",
        "\n",
        "print ('Accuracy : ',report[0])\n",
        "print ('-----------------------')\n",
        "print ('Precision (macro avg) : ',report[1])\n",
        "print ('Recall (macro avg)   : ',report[2])\n",
        "print ('F-score (macro avg)  : ',report[3])\n",
        "print ('-----------------------')\n",
        "print ('Precision (micro avg) : ',report[4])\n",
        "print ('Recall (micro avg)   : ',report[5])\n",
        "print ('F-score (micro avg)  : ',report[6])\n",
        "print ('-----------------------')\n",
        "print ('Precision (weighted avg) : ',report[7])\n",
        "print ('Recall (weighted avg)   : ',report[8])\n",
        "print ('F-score (weighted avg)  : ',report[9])"
      ],
      "execution_count": null,
      "outputs": [
        {
          "output_type": "stream",
          "text": [
            "Accuracy :  65.07838917921919\n",
            "-----------------------\n",
            "Precision (macro avg) :  68.94446815543563\n",
            "Recall (macro avg)   :  62.75222274294563\n",
            "F-score (macro avg)  :  64.25211181077934\n",
            "-----------------------\n",
            "Precision (micro avg) :  65.07838917921919\n",
            "Recall (micro avg)   :  65.07838917921919\n",
            "F-score (micro avg)  :  65.07838917921919\n",
            "-----------------------\n",
            "Precision (weighted avg) :  66.76190112093181\n",
            "Recall (weighted avg)   :  65.07838917921919\n",
            "F-score (weighted avg)  :  64.95442223154512\n"
          ],
          "name": "stdout"
        },
        {
          "output_type": "stream",
          "text": [
            "/usr/local/lib/python3.7/dist-packages/sklearn/metrics/_classification.py:1272: UndefinedMetricWarning: Precision and F-score are ill-defined and being set to 0.0 in labels with no predicted samples. Use `zero_division` parameter to control this behavior.\n",
            "  _warn_prf(average, modifier, msg_start, len(result))\n",
            "/usr/local/lib/python3.7/dist-packages/sklearn/metrics/_classification.py:1272: UndefinedMetricWarning: Recall and F-score are ill-defined and being set to 0.0 in labels with no true samples. Use `zero_division` parameter to control this behavior.\n",
            "  _warn_prf(average, modifier, msg_start, len(result))\n"
          ],
          "name": "stderr"
        }
      ]
    },
    {
      "cell_type": "markdown",
      "metadata": {
        "id": "8ZXEB-KmU9Bt"
      },
      "source": [
        "###### 4.1.3. Logistic Regression and Tf-idf"
      ]
    },
    {
      "cell_type": "code",
      "metadata": {
        "colab": {
          "base_uri": "https://localhost:8080/"
        },
        "id": "w38UvEtXVHOO",
        "outputId": "1cd97965-8ac9-41ba-9928-65c9deecaa2b"
      },
      "source": [
        "# Without Other Features\n",
        "x = TfIdf_word_embedding\n",
        "#------------------------------------\n",
        "\n",
        "X_train,X_test,y_train,y_test = train_test_split(x,y, test_size = 0.2, random_state = 10) #Splitting data into training and testing\n",
        "#------------------------------------\n",
        "\n",
        "report = building_model(classifier, X_train, y_train, X_test, y_test)\n",
        "\n",
        "print ('Accuracy : ',report[0])\n",
        "print ('-----------------------')\n",
        "print ('Precision (macro avg) : ',report[1])\n",
        "print ('Recall (macro avg)   : ',report[2])\n",
        "print ('F-score (macro avg)  : ',report[3])\n",
        "print ('-----------------------')\n",
        "print ('Precision (micro avg) : ',report[4])\n",
        "print ('Recall (micro avg)   : ',report[5])\n",
        "print ('F-score (micro avg)  : ',report[6])\n",
        "print ('-----------------------')\n",
        "print ('Precision (weighted avg) : ',report[7])\n",
        "print ('Recall (weighted avg)   : ',report[8])\n",
        "print ('F-score (weighted avg)  : ',report[9])"
      ],
      "execution_count": null,
      "outputs": [
        {
          "output_type": "stream",
          "text": [
            "Accuracy :  75.0384260682447\n",
            "-----------------------\n",
            "Precision (macro avg) :  76.32915464047461\n",
            "Recall (macro avg)   :  75.69921576920093\n",
            "F-score (macro avg)  :  75.76860598199583\n",
            "-----------------------\n",
            "Precision (micro avg) :  75.0384260682447\n",
            "Recall (micro avg)   :  75.0384260682447\n",
            "F-score (micro avg)  :  75.0384260682447\n",
            "-----------------------\n",
            "Precision (weighted avg) :  75.07733147890518\n",
            "Recall (weighted avg)   :  75.0384260682447\n",
            "F-score (weighted avg)  :  74.83013239904433\n"
          ],
          "name": "stdout"
        },
        {
          "output_type": "stream",
          "text": [
            "/usr/local/lib/python3.7/dist-packages/sklearn/metrics/_classification.py:1272: UndefinedMetricWarning: Precision and F-score are ill-defined and being set to 0.0 in labels with no predicted samples. Use `zero_division` parameter to control this behavior.\n",
            "  _warn_prf(average, modifier, msg_start, len(result))\n",
            "/usr/local/lib/python3.7/dist-packages/sklearn/metrics/_classification.py:1272: UndefinedMetricWarning: Recall and F-score are ill-defined and being set to 0.0 in labels with no true samples. Use `zero_division` parameter to control this behavior.\n",
            "  _warn_prf(average, modifier, msg_start, len(result))\n"
          ],
          "name": "stderr"
        }
      ]
    },
    {
      "cell_type": "markdown",
      "metadata": {
        "id": "l6R5faReV5sV"
      },
      "source": [
        "## 4.2. KNN: "
      ]
    },
    {
      "cell_type": "code",
      "metadata": {
        "id": "UdQG5E-7V5sW"
      },
      "source": [
        "from sklearn.neighbors import KNeighborsClassifier\n",
        "classifier = KNeighborsClassifier(n_neighbors =40, metric = 'minkowski', p = 2)"
      ],
      "execution_count": null,
      "outputs": []
    },
    {
      "cell_type": "markdown",
      "metadata": {
        "id": "Rdtgk4mYV5sX"
      },
      "source": [
        "###### 4.2.1. KNN and Aravec"
      ]
    },
    {
      "cell_type": "code",
      "metadata": {
        "colab": {
          "base_uri": "https://localhost:8080/"
        },
        "id": "ZzWNpVEUV5sX",
        "outputId": "863b9f9a-4b1e-4287-e319-f48175c88545"
      },
      "source": [
        "# Without Other Features\n",
        "x = AraVec_word_embedding\n",
        "#------------------------------------\n",
        "\n",
        "X_train,X_test,y_train,y_test = train_test_split(x,y, test_size = 0.2, random_state = 10) #Splitting data into training and testing\n",
        "#------------------------------------\n",
        "\n",
        "report = building_model(classifier, X_train, y_train, X_test, y_test)\n",
        "\n",
        "print ('Accuracy : ',report[0])\n",
        "print ('-----------------------')\n",
        "print ('Precision (macro avg) : ',report[1])\n",
        "print ('Recall (macro avg)   : ',report[2])\n",
        "print ('F-score (macro avg)  : ',report[3])\n",
        "print ('-----------------------')\n",
        "print ('Precision (micro avg) : ',report[4])\n",
        "print ('Recall (micro avg)   : ',report[5])\n",
        "print ('F-score (micro avg)  : ',report[6])\n",
        "print ('-----------------------')\n",
        "print ('Precision (weighted avg) : ',report[7])\n",
        "print ('Recall (weighted avg)   : ',report[8])\n",
        "print ('F-score (weighted avg)  : ',report[9])"
      ],
      "execution_count": null,
      "outputs": [
        {
          "output_type": "stream",
          "text": [
            "Accuracy :  61.02059637257916\n",
            "-----------------------\n",
            "Precision (macro avg) :  64.44701867341317\n",
            "Recall (macro avg)   :  59.83818671488342\n",
            "F-score (macro avg)  :  60.19352297236924\n",
            "-----------------------\n",
            "Precision (micro avg) :  61.02059637257916\n",
            "Recall (micro avg)   :  61.02059637257916\n",
            "F-score (micro avg)  :  61.02059637257916\n",
            "-----------------------\n",
            "Precision (weighted avg) :  63.034363797515724\n",
            "Recall (weighted avg)   :  61.02059637257916\n",
            "F-score (weighted avg)  :  60.54491152339471\n"
          ],
          "name": "stdout"
        },
        {
          "output_type": "stream",
          "text": [
            "/usr/local/lib/python3.7/dist-packages/sklearn/metrics/_classification.py:1272: UndefinedMetricWarning: Precision and F-score are ill-defined and being set to 0.0 in labels with no predicted samples. Use `zero_division` parameter to control this behavior.\n",
            "  _warn_prf(average, modifier, msg_start, len(result))\n",
            "/usr/local/lib/python3.7/dist-packages/sklearn/metrics/_classification.py:1272: UndefinedMetricWarning: Recall and F-score are ill-defined and being set to 0.0 in labels with no true samples. Use `zero_division` parameter to control this behavior.\n",
            "  _warn_prf(average, modifier, msg_start, len(result))\n"
          ],
          "name": "stderr"
        }
      ]
    },
    {
      "cell_type": "markdown",
      "metadata": {
        "id": "jFidyG7DV5sm"
      },
      "source": [
        "###### 4.2.2. KNN and N-gram"
      ]
    },
    {
      "cell_type": "code",
      "metadata": {
        "colab": {
          "base_uri": "https://localhost:8080/"
        },
        "id": "cn7MBXlCV5sm",
        "outputId": "b1d3979d-c77a-44a6-aef0-ae7111194e66"
      },
      "source": [
        "# Without Other Features\n",
        "x = Ngrame_word_embedding\n",
        "#------------------------------------\n",
        "\n",
        "X_train,X_test,y_train,y_test = train_test_split(x,y, test_size = 0.2, random_state = 10) #Splitting data into training and testing\n",
        "#------------------------------------\n",
        "\n",
        "report = building_model(classifier, X_train, y_train, X_test, y_test)\n",
        "\n",
        "print ('Accuracy : ',report[0])\n",
        "print ('-----------------------')\n",
        "print ('Precision (macro avg) : ',report[1])\n",
        "print ('Recall (macro avg)   : ',report[2])\n",
        "print ('F-score (macro avg)  : ',report[3])\n",
        "print ('-----------------------')\n",
        "print ('Precision (micro avg) : ',report[4])\n",
        "print ('Recall (micro avg)   : ',report[5])\n",
        "print ('F-score (micro avg)  : ',report[6])\n",
        "print ('-----------------------')\n",
        "print ('Precision (weighted avg) : ',report[7])\n",
        "print ('Recall (weighted avg)   : ',report[8])\n",
        "print ('F-score (weighted avg)  : ',report[9])"
      ],
      "execution_count": null,
      "outputs": [
        {
          "output_type": "stream",
          "text": [
            "Accuracy :  58.13095604057793\n",
            "-----------------------\n",
            "Precision (macro avg) :  59.16890205808987\n",
            "Recall (macro avg)   :  57.00293220545335\n",
            "F-score (macro avg)  :  56.123160285878\n",
            "-----------------------\n",
            "Precision (micro avg) :  58.13095604057793\n",
            "Recall (micro avg)   :  58.13095604057793\n",
            "F-score (micro avg)  :  58.13095604057793\n",
            "-----------------------\n",
            "Precision (weighted avg) :  58.349342989332996\n",
            "Recall (weighted avg)   :  58.13095604057793\n",
            "F-score (weighted avg)  :  56.73427816492247\n"
          ],
          "name": "stdout"
        },
        {
          "output_type": "stream",
          "text": [
            "/usr/local/lib/python3.7/dist-packages/sklearn/metrics/_classification.py:1272: UndefinedMetricWarning: Precision and F-score are ill-defined and being set to 0.0 in labels with no predicted samples. Use `zero_division` parameter to control this behavior.\n",
            "  _warn_prf(average, modifier, msg_start, len(result))\n",
            "/usr/local/lib/python3.7/dist-packages/sklearn/metrics/_classification.py:1272: UndefinedMetricWarning: Recall and F-score are ill-defined and being set to 0.0 in labels with no true samples. Use `zero_division` parameter to control this behavior.\n",
            "  _warn_prf(average, modifier, msg_start, len(result))\n"
          ],
          "name": "stderr"
        }
      ]
    },
    {
      "cell_type": "markdown",
      "metadata": {
        "id": "8qQVOhcMV5sn"
      },
      "source": [
        "###### 4.2.3. KNN and Tf-idf"
      ]
    },
    {
      "cell_type": "code",
      "metadata": {
        "colab": {
          "base_uri": "https://localhost:8080/"
        },
        "id": "KjvoG7qBvPsU",
        "outputId": "01f9ed73-da5a-4487-9e5e-1b5d52c3e03e"
      },
      "source": [
        "# Without Other Features\n",
        "x = TfIdf_word_embedding\n",
        "#------------------------------------\n",
        "\n",
        "X_train,X_test,y_train,y_test = train_test_split(x,y, test_size = 0.2, random_state = 10) #Splitting data into training and testing\n",
        "#------------------------------------\n",
        "\n",
        "report = building_model(classifier, X_train, y_train, X_test, y_test)\n",
        "\n",
        "print ('Accuracy : ',report[0])\n",
        "print ('-----------------------')\n",
        "print ('Precision (macro avg) : ',report[1])\n",
        "print ('Recall (macro avg)   : ',report[2])\n",
        "print ('F-score (macro avg)  : ',report[3])\n",
        "print ('-----------------------')\n",
        "print ('Precision (micro avg) : ',report[4])\n",
        "print ('Recall (micro avg)   : ',report[5])\n",
        "print ('F-score (micro avg)  : ',report[6])\n",
        "print ('-----------------------')\n",
        "print ('Precision (weighted avg) : ',report[7])\n",
        "print ('Recall (weighted avg)   : ',report[8])\n",
        "print ('F-score (weighted avg)  : ',report[9])"
      ],
      "execution_count": null,
      "outputs": [
        {
          "output_type": "stream",
          "text": [
            "Accuracy :  68.5521057485398\n",
            "-----------------------\n",
            "Precision (macro avg) :  69.11023655339064\n",
            "Recall (macro avg)   :  69.06126439785278\n",
            "F-score (macro avg)  :  67.61446839366143\n",
            "-----------------------\n",
            "Precision (micro avg) :  68.5521057485398\n",
            "Recall (micro avg)   :  68.5521057485398\n",
            "F-score (micro avg)  :  68.5521057485398\n",
            "-----------------------\n",
            "Precision (weighted avg) :  68.60877776549195\n",
            "Recall (weighted avg)   :  68.5521057485398\n",
            "F-score (weighted avg)  :  67.09913282112325\n"
          ],
          "name": "stdout"
        },
        {
          "output_type": "stream",
          "text": [
            "/usr/local/lib/python3.7/dist-packages/sklearn/metrics/_classification.py:1272: UndefinedMetricWarning: Precision and F-score are ill-defined and being set to 0.0 in labels with no predicted samples. Use `zero_division` parameter to control this behavior.\n",
            "  _warn_prf(average, modifier, msg_start, len(result))\n",
            "/usr/local/lib/python3.7/dist-packages/sklearn/metrics/_classification.py:1272: UndefinedMetricWarning: Recall and F-score are ill-defined and being set to 0.0 in labels with no true samples. Use `zero_division` parameter to control this behavior.\n",
            "  _warn_prf(average, modifier, msg_start, len(result))\n"
          ],
          "name": "stderr"
        }
      ]
    },
    {
      "cell_type": "markdown",
      "metadata": {
        "id": "kBT06E_ad9Su"
      },
      "source": [
        "## 4.3. Support vector machines SVM: "
      ]
    },
    {
      "cell_type": "code",
      "metadata": {
        "id": "2AM3CFEfd9S4"
      },
      "source": [
        "classifier = LinearSVC()"
      ],
      "execution_count": null,
      "outputs": []
    },
    {
      "cell_type": "markdown",
      "metadata": {
        "id": "oYQnXk8yd9S6"
      },
      "source": [
        "###### 4.3.1. SVM and Aravec"
      ]
    },
    {
      "cell_type": "code",
      "metadata": {
        "colab": {
          "base_uri": "https://localhost:8080/"
        },
        "id": "eiSq3vHQd9S6",
        "outputId": "315f22c2-edfa-4a44-9074-d51889a0641c"
      },
      "source": [
        "# Without Other Features\n",
        "x = AraVec_word_embedding\n",
        "#------------------------------------\n",
        "\n",
        "X_train,X_test,y_train,y_test = train_test_split(x,y, test_size = 0.2, random_state = 10) #Splitting data into training and testing\n",
        "#------------------------------------\n",
        "\n",
        "report = building_model(classifier, X_train, y_train, X_test, y_test)\n",
        "\n",
        "print ('Accuracy : ',report[0])\n",
        "print ('-----------------------')\n",
        "print ('Precision (macro avg) : ',report[1])\n",
        "print ('Recall (macro avg)   : ',report[2])\n",
        "print ('F-score (macro avg)  : ',report[3])\n",
        "print ('-----------------------')\n",
        "print ('Precision (micro avg) : ',report[4])\n",
        "print ('Recall (micro avg)   : ',report[5])\n",
        "print ('F-score (micro avg)  : ',report[6])\n",
        "print ('-----------------------')\n",
        "print ('Precision (weighted avg) : ',report[7])\n",
        "print ('Recall (weighted avg)   : ',report[8])\n",
        "print ('F-score (weighted avg)  : ',report[9])"
      ],
      "execution_count": null,
      "outputs": [
        {
          "output_type": "stream",
          "text": [
            "Accuracy :  67.13802643713495\n",
            "-----------------------\n",
            "Precision (macro avg) :  67.11472946081489\n",
            "Recall (macro avg)   :  67.20274041035223\n",
            "F-score (macro avg)  :  66.56590949009863\n",
            "-----------------------\n",
            "Precision (micro avg) :  67.13802643713495\n",
            "Recall (micro avg)   :  67.13802643713495\n",
            "F-score (micro avg)  :  67.13802643713495\n",
            "-----------------------\n",
            "Precision (weighted avg) :  66.72608831071695\n",
            "Recall (weighted avg)   :  67.13802643713495\n",
            "F-score (weighted avg)  :  66.32063936037582\n"
          ],
          "name": "stdout"
        },
        {
          "output_type": "stream",
          "text": [
            "/usr/local/lib/python3.7/dist-packages/sklearn/svm/_base.py:947: ConvergenceWarning: Liblinear failed to converge, increase the number of iterations.\n",
            "  \"the number of iterations.\", ConvergenceWarning)\n",
            "/usr/local/lib/python3.7/dist-packages/sklearn/metrics/_classification.py:1272: UndefinedMetricWarning: Precision and F-score are ill-defined and being set to 0.0 in labels with no predicted samples. Use `zero_division` parameter to control this behavior.\n",
            "  _warn_prf(average, modifier, msg_start, len(result))\n",
            "/usr/local/lib/python3.7/dist-packages/sklearn/metrics/_classification.py:1272: UndefinedMetricWarning: Recall and F-score are ill-defined and being set to 0.0 in labels with no true samples. Use `zero_division` parameter to control this behavior.\n",
            "  _warn_prf(average, modifier, msg_start, len(result))\n"
          ],
          "name": "stderr"
        }
      ]
    },
    {
      "cell_type": "markdown",
      "metadata": {
        "id": "xdH8_cGtd9S9"
      },
      "source": [
        "###### 4.3.2. SVM and N-gram"
      ]
    },
    {
      "cell_type": "code",
      "metadata": {
        "colab": {
          "base_uri": "https://localhost:8080/"
        },
        "id": "B8texeold9S9",
        "outputId": "1512f977-1d07-43c5-e7e5-8fffcd3013ec"
      },
      "source": [
        "# Without Other Features\n",
        "x = Ngrame_word_embedding\n",
        "#------------------------------------\n",
        "\n",
        "X_train,X_test,y_train,y_test = train_test_split(x,y, test_size = 0.2, random_state = 10) #Splitting data into training and testing\n",
        "#------------------------------------\n",
        "\n",
        "report = building_model(classifier, X_train, y_train, X_test, y_test)\n",
        "\n",
        "print ('Accuracy : ',report[0])\n",
        "print ('-----------------------')\n",
        "print ('Precision (macro avg) : ',report[1])\n",
        "print ('Recall (macro avg)   : ',report[2])\n",
        "print ('F-score (macro avg)  : ',report[3])\n",
        "print ('-----------------------')\n",
        "print ('Precision (micro avg) : ',report[4])\n",
        "print ('Recall (micro avg)   : ',report[5])\n",
        "print ('F-score (micro avg)  : ',report[6])\n",
        "print ('-----------------------')\n",
        "print ('Precision (weighted avg) : ',report[7])\n",
        "print ('Recall (weighted avg)   : ',report[8])\n",
        "print ('F-score (weighted avg)  : ',report[9])"
      ],
      "execution_count": null,
      "outputs": [
        {
          "output_type": "stream",
          "text": [
            "Accuracy :  64.12542268675068\n",
            "-----------------------\n",
            "Precision (macro avg) :  64.51826853132607\n",
            "Recall (macro avg)   :  63.5684115288227\n",
            "F-score (macro avg)  :  63.7456658562094\n",
            "-----------------------\n",
            "Precision (micro avg) :  64.12542268675068\n",
            "Recall (micro avg)   :  64.12542268675068\n",
            "F-score (micro avg)  :  64.12542268675068\n",
            "-----------------------\n",
            "Precision (weighted avg) :  64.00532833030243\n",
            "Recall (weighted avg)   :  64.12542268675068\n",
            "F-score (weighted avg)  :  63.79071377471735\n"
          ],
          "name": "stdout"
        },
        {
          "output_type": "stream",
          "text": [
            "/usr/local/lib/python3.7/dist-packages/sklearn/metrics/_classification.py:1272: UndefinedMetricWarning: Precision and F-score are ill-defined and being set to 0.0 in labels with no predicted samples. Use `zero_division` parameter to control this behavior.\n",
            "  _warn_prf(average, modifier, msg_start, len(result))\n",
            "/usr/local/lib/python3.7/dist-packages/sklearn/metrics/_classification.py:1272: UndefinedMetricWarning: Recall and F-score are ill-defined and being set to 0.0 in labels with no true samples. Use `zero_division` parameter to control this behavior.\n",
            "  _warn_prf(average, modifier, msg_start, len(result))\n"
          ],
          "name": "stderr"
        }
      ]
    },
    {
      "cell_type": "markdown",
      "metadata": {
        "id": "LZ36WQI7d9S-"
      },
      "source": [
        "###### 4.3.3. SVM and Tf-idf"
      ]
    },
    {
      "cell_type": "code",
      "metadata": {
        "colab": {
          "base_uri": "https://localhost:8080/"
        },
        "id": "EbAwLJaLd9S-",
        "outputId": "13ccf4d1-e000-45fd-b13e-fc8cd5329f81"
      },
      "source": [
        "# Without Other Features\n",
        "x = TfIdf_word_embedding\n",
        "#------------------------------------\n",
        "\n",
        "X_train,X_test,y_train,y_test = train_test_split(x,y, test_size = 0.2, random_state = 10) #Splitting data into training and testing\n",
        "#------------------------------------\n",
        "\n",
        "report = building_model(classifier, X_train, y_train, X_test, y_test)\n",
        "\n",
        "print ('Accuracy : ',report[0])\n",
        "print ('-----------------------')\n",
        "print ('Precision (macro avg) : ',report[1])\n",
        "print ('Recall (macro avg)   : ',report[2])\n",
        "print ('F-score (macro avg)  : ',report[3])\n",
        "print ('-----------------------')\n",
        "print ('Precision (micro avg) : ',report[4])\n",
        "print ('Recall (micro avg)   : ',report[5])\n",
        "print ('F-score (micro avg)  : ',report[6])\n",
        "print ('-----------------------')\n",
        "print ('Precision (weighted avg) : ',report[7])\n",
        "print ('Recall (weighted avg)   : ',report[8])\n",
        "print ('F-score (weighted avg)  : ',report[9])"
      ],
      "execution_count": null,
      "outputs": [
        {
          "output_type": "stream",
          "text": [
            "Accuracy :  76.68621700879766\n",
            "-----------------------\n",
            "Precision (macro avg) :  74.9418970216739\n",
            "Recall (macro avg)   :  73.23660152432916\n",
            "F-score (macro avg)  :  73.6896559458295\n",
            "-----------------------\n",
            "Precision (micro avg) :  76.68621700879766\n",
            "Recall (micro avg)   :  76.68621700879766\n",
            "F-score (micro avg)  :  76.68621700879766\n",
            "-----------------------\n",
            "Precision (weighted avg) :  76.68342898858172\n",
            "Recall (weighted avg)   :  76.68621700879766\n",
            "F-score (weighted avg)  :  76.35036721741702\n"
          ],
          "name": "stdout"
        },
        {
          "output_type": "stream",
          "text": [
            "/usr/local/lib/python3.7/dist-packages/sklearn/metrics/_classification.py:1272: UndefinedMetricWarning: Precision and F-score are ill-defined and being set to 0.0 in labels with no predicted samples. Use `zero_division` parameter to control this behavior.\n",
            "  _warn_prf(average, modifier, msg_start, len(result))\n",
            "/usr/local/lib/python3.7/dist-packages/sklearn/metrics/_classification.py:1272: UndefinedMetricWarning: Recall and F-score are ill-defined and being set to 0.0 in labels with no true samples. Use `zero_division` parameter to control this behavior.\n",
            "  _warn_prf(average, modifier, msg_start, len(result))\n"
          ],
          "name": "stderr"
        }
      ]
    },
    {
      "cell_type": "code",
      "metadata": {
        "id": "6W6ABp2IOL9I"
      },
      "source": [
        "m= classifier.fit(X_train, y_train)"
      ],
      "execution_count": null,
      "outputs": []
    },
    {
      "cell_type": "code",
      "metadata": {
        "id": "0pCjlFtpPGwM"
      },
      "source": [
        "import pickle\n",
        "# save the model to disk\n",
        "filename = 'finalized_model.sav'\n",
        "pickle.dump(classifier, open(filename, 'wb'))"
      ],
      "execution_count": null,
      "outputs": []
    },
    {
      "cell_type": "code",
      "metadata": {
        "colab": {
          "base_uri": "https://localhost:8080/"
        },
        "id": "RhQlGR3yORye",
        "outputId": "ae0a0b6a-20c6-4170-ea59-496ab6b6d6e0"
      },
      "source": [
        "# load the model from disk\n",
        "loaded_model = pickle.load(open(filename, 'rb'))\n",
        "result = loaded_model.score(X_train, y_train)\n",
        "print(result)"
      ],
      "execution_count": null,
      "outputs": [
        {
          "output_type": "stream",
          "text": [
            "0.9913576367064739\n"
          ],
          "name": "stdout"
        }
      ]
    }
  ]
}